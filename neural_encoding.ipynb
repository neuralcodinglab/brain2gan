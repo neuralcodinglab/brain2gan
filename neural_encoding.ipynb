{
  "nbformat": 4,
  "nbformat_minor": 0,
  "metadata": {
    "colab": {
      "provenance": []
    },
    "kernelspec": {
      "name": "python3",
      "display_name": "Python 3"
    },
    "language_info": {
      "name": "python"
    }
  },
  "cells": [
    {
      "cell_type": "code",
      "execution_count": null,
      "metadata": {
        "id": "V9ajP9exadLN"
      },
      "outputs": [],
      "source": [
        "from google.colab import drive\n",
        "drive.mount('/content/drive')"
      ]
    },
    {
      "cell_type": "code",
      "source": [
        "from sklearn.kernel_ridge import KernelRidge\n",
        "from numpy.linalg import svd\n",
        "from scipy import signal, stats\n",
        "from scipy.stats import t\n",
        "import h5py\n",
        "import PIL\n",
        "import matplotlib.pyplot as plt\n",
        "import numpy as np"
      ],
      "metadata": {
        "id": "Oa-Pnj9jahoY"
      },
      "execution_count": null,
      "outputs": []
    },
    {
      "cell_type": "code",
      "source": [
        "def pearson_correlation_coefficient(x: np.ndarray, y: np.ndarray, axis: int) -> np.ndarray:\n",
        "    r = (np.nan_to_num(stats.zscore(x)) * np.nan_to_num(stats.zscore(y))).mean(axis)\n",
        "    p = 2 * t.sf(np.abs(r / np.sqrt((1 - r ** 2) / (x.shape[0] - 2))), x.shape[0] - 2)\n",
        "    return r, p"
      ],
      "metadata": {
        "id": "Vz63RxRPahvI"
      },
      "execution_count": null,
      "outputs": []
    },
    {
      "cell_type": "code",
      "source": [
        "class KernelRidgeCV:\n",
        "    def __init__(self, kernel, target, n_lambdas):\n",
        "        self.kernel = kernel\n",
        "        self.target = target\n",
        "        self.n_lambdas = n_lambdas\n",
        "        self._lambdas = None\n",
        "        self._df = None\n",
        "\n",
        "    @property\n",
        "    def lambdas(self):\n",
        "        if self._lambdas is not None:   \n",
        "            return self._lambdas\n",
        "\n",
        "        # singular value decomposition\n",
        "        s = svd(self.kernel)[1]\n",
        "        s = s[s > 0]\n",
        "        \n",
        "        self._lambdas = np.full((self.n_lambdas), np.nan)\n",
        "        length = s.shape[0]\n",
        "        self._df = np.linspace(length, 1, self.n_lambdas)\n",
        "        mean = np.mean(1/s)\n",
        "        f = lambda df, lamb: df - np.sum(s / (s + lamb))\n",
        "        f_prime = lambda lamb: np.sum(s / (s + lamb)**2)\n",
        "\n",
        "        # get all the lambdas\n",
        "        for i in range(1, self.n_lambdas):\n",
        "            if i == 1:\n",
        "                self._lambdas[i] = 0\n",
        "            else:\n",
        "                self._lambdas[i] = self._lambdas[i-1]\n",
        "            self._lambdas[i] = max(self._lambdas[i], (length / self._df[i] - 1) / mean)\n",
        "            temp = f(self._df[i], self._lambdas[i])\n",
        "            while abs(temp) > 1e-10:\n",
        "                self._lambdas[i] = max(0, self._lambdas[i] - temp / f_prime(self._lambdas[i]))\n",
        "                temp = f(self._df[i], self._lambdas[i])\n",
        "        return self._lambdas[1:]\n",
        "\n",
        "\n",
        "    def train(self, X):\n",
        "        best_model, best_error = None, np.inf\n",
        "\n",
        "        # CV over all the lambdas\n",
        "        for lambda_, df_ in zip(self.lambdas, self._df):\n",
        "            \n",
        "            # k-Ridge, where regularization?\n",
        "            # precomputed, then treat X as kernel (otherwise as X)\n",
        "            kernel_ridge = KernelRidge(alpha=lambda_)\n",
        "            kernel_ridge.fit(X, self.target)\n",
        "            y = kernel_ridge.predict(X)\n",
        "            error = np.sum(((self.target - y) / (1 - df_ / self.kernel.shape[0])) ** 2)\n",
        "            if error < best_error:\n",
        "                best_error = error\n",
        "                best_model = kernel_ridge\n",
        "        print(\"Best error:\", best_error, \"Alpha: \", best_model.alpha)\n",
        "        return best_model"
      ],
      "metadata": {
        "id": "1K8DjwPnbDB2"
      },
      "execution_count": null,
      "outputs": []
    },
    {
      "cell_type": "markdown",
      "source": [
        "# StyleGAN3 (faces)"
      ],
      "metadata": {
        "id": "StV_MybRanZD"
      }
    },
    {
      "cell_type": "code",
      "source": [
        "f1 = h5py.File(\"/content/drive/My Drive/faces/GANs_StyleGAN3_normMUA.mat\", \"r\")\n",
        "x_te = np.delete(np.array(f1[\"test_MUA\"]), np.arange(320, 384), axis=1)\n",
        "x_tr = np.delete(np.array(f1[\"train_MUA\"]), np.arange(320, 384), axis=1)\n",
        "dims = [0, 448, 704, 960]"
      ],
      "metadata": {
        "id": "yF6gUrpaahze"
      },
      "execution_count": null,
      "outputs": []
    },
    {
      "cell_type": "code",
      "source": [
        "# vgg16 for face recognition\n",
        "ys1 = np.zeros((2, 200, 960))\n",
        "for i, layer in enumerate(range([0, 2])):\n",
        "    a_te = np.load(\"/content/drive/My Drive/faces/vggface_te_%i.npy\" % layer).reshape(200, -1)\n",
        "    a_tr = np.load(\"/content/drive/My Drive/faces/vggface_tr_%i.npy\" % layer).reshape(4000, -1)\n",
        "\n",
        "    # n x n kernel matrix of pairwise similarity comparisons\n",
        "    kernel = a_tr @ a_tr.T\n",
        "    kernel = kernel.astype(float)\n",
        "    for roi in range(3):\n",
        "        ridge_cv = KernelRidgeCV(kernel, x_tr[:, dims[roi]:dims[roi+1]], 5)\n",
        "        model = ridge_cv.train(a_tr)\n",
        "        ys1[i, :, dims[roi]:dims[roi+1]] = model.predict(a_te)\n",
        "    np.save(\"/content/drive/My Drive/faces/ys_vgg16.npy\", ys1)"
      ],
      "metadata": {
        "id": "QlU_xXeKah1u"
      },
      "execution_count": null,
      "outputs": []
    },
    {
      "cell_type": "code",
      "source": [
        "# z-latents\n",
        "z_te = np.load(\"/content/drive/My Drive/faces/z_te.npy\")\n",
        "z_tr = np.load(\"/content/drive/My Drive/faces/z_tr.npy\")\n",
        "kernel = z_tr @ z_tr.T\n",
        "kernel = kernel.astype(float)\n",
        "ys2 = np.zeros((100, 960))\n",
        "for roi in range(3):\n",
        "    ridge_cv = KernelRidgeCV(kernel, x_tr[:, dims[roi]:dims[roi+1]], 5)\n",
        "    model = ridge_cv.train(z_tr)\n",
        "    ys2[:, dims[roi]:dims[roi+1]] = model.predict(z_te)\n",
        "np.save(\"/content/drive/My Drive/faces/ys_z.npy\", ys2)"
      ],
      "metadata": {
        "id": "gtEjI00Bah4B"
      },
      "execution_count": null,
      "outputs": []
    },
    {
      "cell_type": "code",
      "source": [
        "# w-latents\n",
        "w_te = np.load(\"/content/drive/My Drive/faces/w_te.npy\")[:, 0]\n",
        "w_tr = np.load(\"/content/drive/My Drive/faces/w_tr.npy\")[:, 0]\n",
        "kernel = w_tr @ w_tr.T\n",
        "kernel = kernel.astype(float)\n",
        "ys3 = np.zeros((100, 960))\n",
        "for roi in range(3):\n",
        "    ridge_cv = KernelRidgeCV(kernel, x_tr[:, dims[roi]:dims[roi+1]], 5)\n",
        "    model = ridge_cv.train(w_tr)\n",
        "    ys3[:, dims[roi]:dims[roi+1]] = model.predict(w_te)\n",
        "np.save(\"/content/drive/My Drive/faces/ys_w.npy\", ys3)"
      ],
      "metadata": {
        "id": "Q5IQNLPsah6O"
      },
      "execution_count": null,
      "outputs": []
    },
    {
      "cell_type": "code",
      "source": [
        "# CLIP latents\n",
        "clip_te = np.load(\"/content/drive/My Drive/faces/clip_te.npy\")\n",
        "clip_tr = np.load(\"/content/drive/My Drive/faces/clip_tr.npy\")\n",
        "kernel = clip_tr @ clip_tr.T\n",
        "kernel = kernel.astype(float)\n",
        "ys4 = np.zeros((100, 960))\n",
        "for roi in range(3):\n",
        "    ridge_cv = KernelRidgeCV(kernel, x_tr[:, dims[roi]:dims[roi+1]], 5)\n",
        "    model = ridge_cv.train(clip_tr)\n",
        "    ys4[:, dims[roi]:dims[roi+1]] = model.predict(clip_te)\n",
        "np.save(\"/content/drive/My Drive/faces/ys_clip.npy\", ys4)"
      ],
      "metadata": {
        "id": "ok7Wbhmmah7_"
      },
      "execution_count": null,
      "outputs": []
    },
    {
      "cell_type": "markdown",
      "source": [
        "# StyleGAN-XL (natural images)"
      ],
      "metadata": {
        "id": "e4q1uEbzdQ6r"
      }
    },
    {
      "cell_type": "code",
      "source": [
        "f1 = h5py.File(\"/content/drive/My Drive/images/GANs_StyleGAN_XL_normMUA.mat\", \"r\")\n",
        "dims = [0, 448, 704, 960]\n",
        "\n",
        "# delete broken microelectrode array\n",
        "x_te = np.delete(np.array(f1[\"test_MUA\"]), np.arange(320, 384), axis=1)\n",
        "x_tr = np.delete(np.array(f1[\"train_MUA\"]), np.arange(320, 384), axis=1)"
      ],
      "metadata": {
        "id": "gsv0XRNaah96"
      },
      "execution_count": null,
      "outputs": []
    },
    {
      "cell_type": "code",
      "source": [
        "# vgg16 for object recognition\n",
        "ys1 = np.zeros((2, 200, 960))\n",
        "for i, layer in enumerate(range([0, 2])):\n",
        "    a_te = np.load(\"/content/drive/My Drive/images/vgg_te_%i.npy\" % layer).reshape(200, -1)\n",
        "    a_tr = np.load(\"/content/drive/My Drive/images/vgg_tr_%i.npy\" % layer).reshape(4000, -1)\n",
        "    kernel = a_tr @ a_tr.T\n",
        "    kernel = kernel.astype(float)\n",
        "    for roi in range(3):\n",
        "        ridge_cv = KernelRidgeCV(kernel, x_tr[:, dims[roi]:dims[roi+1]], 5)\n",
        "        model = ridge_cv.train(a_tr)\n",
        "        ys1[i, :, dims[roi]:dims[roi+1]] = model.predict(a_te)\n",
        "np.save(\"/content/drive/My Drive/images/ys_vgg16.npy\", ys1)"
      ],
      "metadata": {
        "id": "wwMRSwHWdZnx"
      },
      "execution_count": null,
      "outputs": []
    },
    {
      "cell_type": "code",
      "source": [
        "# z-latents\n",
        "z_te = np.load(\"/content/drive/My Drive/images/z_te.npy\")\n",
        "z_tr = np.load(\"/content/drive/My Drive/images/z_tr.npy\")\n",
        "kernel = z_tr @ z_tr.T\n",
        "kernel = kernel.astype(float)\n",
        "ys2 = np.zeros((200, 960))\n",
        "for roi in range(3):\n",
        "    ridge_cv = KernelRidgeCV(kernel, x_tr[:, dims[roi]:dims[roi+1]], 5)\n",
        "    model = ridge_cv.train(z_tr)\n",
        "    ys2[:, dims[roi]:dims[roi+1]] = model.predict(z_te)\n",
        "np.save(\"/content/drive/My Drive/images/ys_z.npy\", ys2)"
      ],
      "metadata": {
        "id": "02UlDAvpdZsG"
      },
      "execution_count": null,
      "outputs": []
    },
    {
      "cell_type": "code",
      "source": [
        "# w-latents\n",
        "w_te = np.load(\"/content/drive/My Drive/images/w_te.npy\")[:, 0]\n",
        "w_tr = np.load(\"/content/drive/My Drive/images/w_tr.npy\")[:, 0]\n",
        "kernel = w_tr @ w_tr.T\n",
        "kernel = kernel.astype(float)\n",
        "ys3 = np.zeros((200, 960))\n",
        "for roi in range(3):\n",
        "    ridge_cv = KernelRidgeCV(kernel, x_tr[:, dims[roi]:dims[roi+1]], 5)\n",
        "    model = ridge_cv.train(w_tr)\n",
        "    ys3[:, dims[roi]:dims[roi+1]] = model.predict(w_te)\n",
        "np.save(\"/content/drive/My Drive/images/ys_w.npy\", ys3)"
      ],
      "metadata": {
        "id": "JOppNnNudZw1"
      },
      "execution_count": null,
      "outputs": []
    },
    {
      "cell_type": "code",
      "source": [
        "# CLIP latents\n",
        "clip_te = np.load(\"/content/drive/My Drive/images/clip_te.npy\")\n",
        "clip_tr = np.load(\"/content/drive/My Drive/images/clip_tr.npy\")\n",
        "kernel = clip_tr @ clip_tr.T\n",
        "kernel = kernel.astype(float)\n",
        "ys4 = np.zeros((200, 960))\n",
        "for roi in range(3):\n",
        "    ridge_cv = KernelRidgeCV(kernel, x_tr[:, dims[roi]:dims[roi+1]], 5)\n",
        "    model = ridge_cv.train(clip_tr)\n",
        "    ys4[:, dims[roi]:dims[roi+1]] = model.predict(clip_te)\n",
        "np.save(\"/content/drive/My Drive/images/ys_clip.npy\", ys4)"
      ],
      "metadata": {
        "id": "cOlUHXA0dZ1c"
      },
      "execution_count": null,
      "outputs": []
    }
  ]
}