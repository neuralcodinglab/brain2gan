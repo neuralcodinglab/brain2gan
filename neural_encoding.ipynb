{
  "nbformat": 4,
  "nbformat_minor": 0,
  "metadata": {
    "colab": {
      "provenance": []
    },
    "kernelspec": {
      "name": "python3",
      "display_name": "Python 3"
    },
    "language_info": {
      "name": "python"
    }
  },
  "cells": [
    {
      "cell_type": "code",
      "execution_count": null,
      "metadata": {
        "id": "V9ajP9exadLN",
        "colab": {
          "base_uri": "https://localhost:8080/"
        },
        "outputId": "c7559bcc-3d48-41d8-989b-60d62cdbb3fa"
      },
      "outputs": [
        {
          "output_type": "stream",
          "name": "stdout",
          "text": [
            "Drive already mounted at /content/drive; to attempt to forcibly remount, call drive.mount(\"/content/drive\", force_remount=True).\n"
          ]
        }
      ],
      "source": [
        "from google.colab import drive\n",
        "drive.mount('/content/drive')"
      ]
    },
    {
      "cell_type": "code",
      "source": [
        "from sklearn.kernel_ridge import KernelRidge\n",
        "from numpy.linalg import svd\n",
        "from scipy import signal, stats\n",
        "from scipy.stats import t\n",
        "import h5py\n",
        "import PIL\n",
        "import matplotlib.pyplot as plt\n",
        "import numpy as np\n",
        "from matplotlib import colors"
      ],
      "metadata": {
        "id": "Oa-Pnj9jahoY"
      },
      "execution_count": null,
      "outputs": []
    },
    {
      "cell_type": "code",
      "source": [
        "def pearson_correlation_coefficient(x: np.ndarray, y: np.ndarray, axis: int) -> np.ndarray:\n",
        "    r = (np.nan_to_num(stats.zscore(x)) * np.nan_to_num(stats.zscore(y))).mean(axis)\n",
        "    p = 2 * t.sf(np.abs(r / np.sqrt((1 - r ** 2) / (x.shape[0] - 2))), x.shape[0] - 2)\n",
        "    return r, p"
      ],
      "metadata": {
        "id": "Vz63RxRPahvI"
      },
      "execution_count": null,
      "outputs": []
    },
    {
      "cell_type": "code",
      "source": [
        "class KernelRidgeCV:\n",
        "    def __init__(self, kernel, target, n_lambdas):\n",
        "        self.kernel = kernel\n",
        "        self.target = target\n",
        "        self.n_lambdas = n_lambdas\n",
        "        self._lambdas = None\n",
        "        self._df = None\n",
        "\n",
        "    @property\n",
        "    def lambdas(self):\n",
        "        if self._lambdas is not None:   \n",
        "            return self._lambdas\n",
        "\n",
        "        # Singular value decomposition\n",
        "        s = svd(self.kernel)[1]\n",
        "        s = s[s > 0]\n",
        "        \n",
        "        self._lambdas = np.full((self.n_lambdas), np.nan)\n",
        "        length = s.shape[0]\n",
        "        self._df = np.linspace(length, 1, self.n_lambdas)\n",
        "        mean = np.mean(1/s)\n",
        "        f = lambda df, lamb: df - np.sum(s / (s + lamb))\n",
        "        f_prime = lambda lamb: np.sum(s / (s + lamb)**2)\n",
        "\n",
        "        # Get all the lambdas\n",
        "        for i in range(1, self.n_lambdas):\n",
        "            if i == 1:\n",
        "                self._lambdas[i] = 0\n",
        "            else:\n",
        "                self._lambdas[i] = self._lambdas[i-1]\n",
        "            self._lambdas[i] = max(self._lambdas[i], (length / self._df[i] - 1) / mean)\n",
        "            temp = f(self._df[i], self._lambdas[i])\n",
        "            while abs(temp) > 1e-10:\n",
        "                self._lambdas[i] = max(0, self._lambdas[i] - temp / f_prime(self._lambdas[i]))\n",
        "                temp = f(self._df[i], self._lambdas[i])\n",
        "        return self._lambdas[1:]\n",
        "\n",
        "\n",
        "    def train(self, X):\n",
        "        best_model, best_error = None, np.inf\n",
        "\n",
        "        # CV over all the lambdas\n",
        "        for lambda_, df_ in zip(self.lambdas, self._df):\n",
        "            kernel_ridge = KernelRidge(alpha=lambda_)\n",
        "            kernel_ridge.fit(X, self.target)\n",
        "            y = kernel_ridge.predict(X)\n",
        "            error = np.sum(((self.target - y) / (1 - df_ / self.kernel.shape[0])) ** 2)\n",
        "            if error < best_error:\n",
        "                best_error = error\n",
        "                best_model = kernel_ridge\n",
        "        print(\"Best error:\", best_error, \"Alpha: \", best_model.alpha)\n",
        "        return best_model"
      ],
      "metadata": {
        "id": "1K8DjwPnbDB2"
      },
      "execution_count": null,
      "outputs": []
    },
    {
      "cell_type": "code",
      "source": [
        "def features2responses(x_tr, f_te, f_tr, file_name):\n",
        "\n",
        "    # n x n kernel matrix of pairwise similarity comparisons\n",
        "    kernel = f_tr @ f_tr.T\n",
        "    kernel = kernel.astype(float)\n",
        "\n",
        "    y = np.zeros((100, 960))\n",
        "    for roi in range(3):\n",
        "        ridge_cv = KernelRidgeCV(kernel, x_tr[:, dims[roi]:dims[roi+1]], 5)\n",
        "        model = ridge_cv.train(f_tr)\n",
        "        y[:, dims[roi]:dims[roi+1]] = model.predict(f_te)\n",
        "    np.save(\"/content/drive/My Drive/y_%s.npy\" % file_name, y)"
      ],
      "metadata": {
        "id": "FVmbyX2d96Mc"
      },
      "execution_count": null,
      "outputs": []
    },
    {
      "cell_type": "markdown",
      "source": [
        "# Faces (StyleGAN3)"
      ],
      "metadata": {
        "id": "StV_MybRanZD"
      }
    },
    {
      "cell_type": "code",
      "source": [
        "f1 = h5py.File(\"/content/drive/My Drive/faces/GANs_StyleGAN3_normMUA.mat\", \"r\")\n",
        "\n",
        "# Delete broken microelectrode array\n",
        "x_te = np.delete(np.array(f1[\"test_MUA\"]), np.arange(320, 384), axis=1)\n",
        "x_tr = np.delete(np.array(f1[\"train_MUA\"]), np.arange(320, 384), axis=1)\n",
        "\n",
        "# E.g., encoding from w-latents\n",
        "w_te = np.load(\"/content/drive/My Drive/faces/w_te.npy\")[:, 0]\n",
        "w_tr = np.load(\"/content/drive/My Drive/faces/w_tr.npy\")[:, 0]\n",
        "features2responses(x_tr, w_te, w_tr, \"faces_w_latents\")\n",
        "\n",
        "# E.g., encoding from CLIP latents\n",
        "clip_te = np.load(\"/content/drive/My Drive/faces/clip_te.npy\")\n",
        "clip_tr = np.load(\"/content/drive/My Drive/faces/clip_tr.npy\")\n",
        "features2responses(x_tr, clip_te, clip_tr, \"faces_clip_latents\")"
      ],
      "metadata": {
        "id": "yF6gUrpaahze"
      },
      "execution_count": null,
      "outputs": []
    },
    {
      "cell_type": "markdown",
      "source": [
        "# Natural images (StyleGAN-XL)"
      ],
      "metadata": {
        "id": "e4q1uEbzdQ6r"
      }
    },
    {
      "cell_type": "code",
      "source": [
        "f1 = h5py.File(\"/content/drive/My Drive/images/GANs_StyleGAN_XL_normMUA.mat\", \"r\")\n",
        "dims = [0, 448, 704, 960]\n",
        "\n",
        "# Delete broken microelectrode array\n",
        "x_te = np.delete(np.array(f1[\"test_MUA\"]), np.arange(320, 384), axis=1)\n",
        "x_tr = np.delete(np.array(f1[\"train_MUA\"]), np.arange(320, 384), axis=1)\n",
        "\n",
        "# E.g., encoding from w-latents\n",
        "w_te = np.load(\"/content/drive/My Drive/images/w_te.npy\")[:, 0]\n",
        "w_tr = np.load(\"/content/drive/My Drive/images/w_tr.npy\")[:, 0]\n",
        "features2responses(x_tr, w_te, w_tr, \"images_w_latents\")\n",
        "\n",
        "# E.g., encoding from CLIP latents\n",
        "clip_te = np.load(\"/content/drive/My Drive/images/clip_te.npy\")\n",
        "clip_tr = np.load(\"/content/drive/My Drive/images/clip_tr.npy\")\n",
        "features2responses(x_tr, clip_te, clip_tr, \"images_clip_latents\")"
      ],
      "metadata": {
        "id": "gsv0XRNaah96"
      },
      "execution_count": null,
      "outputs": []
    },
    {
      "cell_type": "markdown",
      "source": [
        "# Analysis"
      ],
      "metadata": {
        "id": "sQaucbhvAPS_"
      }
    },
    {
      "cell_type": "code",
      "source": [
        "# E.g., for natural images\n",
        "y1 = np.load(\"/content/drive/My Drive/y_images_vgg16_1.npy\")\n",
        "y2 = np.load(\"/content/drive/My Drive/y_images_vgg16_3.npy\")\n",
        "y3 = np.load(\"/content/drive/My Drive/y_images_z_latents.npy\")\n",
        "y4 = np.load(\"/content/drive/My Drive/y_images_w_latents.npy\")\n",
        "y5 = np.load(\"/content/drive/My Drive/y_images_clip_latents.npy\")\n",
        "features = [y1, y2, y3, y4, y5]\n",
        "\n",
        "rs_v1 = np.zeros((2, len(ys), 448))\n",
        "rs_v4 = np.zeros((2, len(ys), 256))\n",
        "rs_it = np.zeros((2, len(ys), 256))\n",
        "_rs = [rs_v1, rs_v4, rs_it]\n",
        "dims = [0, 448, 704, 960]\n",
        "for index, y in enumerate(features):\n",
        "    for roi in range(3):\n",
        "        r, p = pearson_correlation_coefficient(y[:, dims[roi]:dims[roi+1]], x_te[:, dims[roi]:dims[roi+1]], 0)\n",
        "        _rs[roi][0, index] = r\n",
        "        _rs[roi][1, index] = p"
      ],
      "metadata": {
        "id": "Idpl8i2c_5Ed"
      },
      "execution_count": null,
      "outputs": []
    },
    {
      "cell_type": "code",
      "source": [
        "# Layer assignment: bar plot\n",
        "norm = [448, 256, 256]\n",
        "rois = [\"all\", \"v1\", \"v4\", \"it\"]\n",
        "fig, axs = plt.subplots(1, 3, figsize=(15, 2))\n",
        "for roi in range(3):\n",
        "    values, counts = np.unique(np.argmax(_rs[roi][0], axis=0), return_counts=True)\n",
        "    _values = np.zeros(len(features))\n",
        "    _values[values] = counts\n",
        "    print(roi, np.round(_values / norm[roi] * 100, 2))\n",
        "    axs[roi].bar(range(len(_values)), _values / norm[roi] * 100)\n",
        "    axs[roi].set_title(rois[roi+1])\n",
        "plt.show()"
      ],
      "metadata": {
        "id": "A5blAGgBATNb",
        "colab": {
          "base_uri": "https://localhost:8080/",
          "height": 292
        },
        "outputId": "4675c0dd-bdd5-45a0-f399-5b8be4cb4256"
      },
      "execution_count": null,
      "outputs": [
        {
          "output_type": "stream",
          "name": "stdout",
          "text": [
            "0 [54.91 43.53  0.22  0.45  0.89]\n",
            "1 [ 1.17 87.89  9.38  1.17  0.39]\n",
            "2 [ 3.91  3.12 12.89 59.77 20.31]\n"
          ]
        },
        {
          "output_type": "display_data",
          "data": {
            "text/plain": [
              "<Figure size 1500x200 with 3 Axes>"
            ],
            "image/png": "[encoded data removed]"
          },
          "metadata": {}
        }
      ]
    },
    {
      "cell_type": "code",
      "source": [
        "def plot_electrodes_sign(roi, n):\n",
        "    fig, axs = plt.subplots(1, n, figsize=(n+3, 3))\n",
        "    for i in range(n):\n",
        "        _layer = np.argmax(_rs[roi][0], axis=0)[i*64:(i+1)*64].reshape(8, 8)\n",
        "        _alpha = np.min((1-_rs[roi][1]), axis=0)[i*64:(i+1)*64].reshape(8, 8)\n",
        "        im = axs[i].imshow(_layer, cmap=cmap, vmin=0, vmax=5, alpha=_alpha)\n",
        "        axs[i].axis(\"off\")\n",
        "    plt.tight_layout()\n",
        "    plt.show()\n",
        "\n",
        "\n",
        "# Make a color map of fixed colors\n",
        "my_colors = [\"#577590\", \"#43AA8B\", \"#F9C74F\", \"#F8961E\", \"#F94144\"]\n",
        "cmap = colors.ListedColormap(my_colors)\n",
        "bounds = np.arange(len(my_colors))\n",
        "plot_electrodes_sign(0, 7)\n",
        "plot_electrodes_sign(1, 4)\n",
        "plot_electrodes_sign(2, 4)"
      ],
      "metadata": {
        "id": "mE0cwQsFATZQ",
        "colab": {
          "base_uri": "https://localhost:8080/",
          "height": 514
        },
        "outputId": "56a980c9-867b-466d-ccf4-74de0faa8fa3"
      },
      "execution_count": null,
      "outputs": [
        {
          "output_type": "display_data",
          "data": {
            "text/plain": [
              "<Figure size 1000x300 with 7 Axes>"
            ],
            "image/png": "[encoded data removed]"
          },
          "metadata": {}
        },
        {
          "output_type": "display_data",
          "data": {
            "text/plain": [
              "<Figure size 700x300 with 4 Axes>"
            ],
            "image/png": "[encoded data removed]"
          },
          "metadata": {}
        },
        {
          "output_type": "display_data",
          "data": {
            "text/plain": [
              "<Figure size 700x300 with 4 Axes>"
            ],
            "image/png": "[encoded data removed]"
          },
          "metadata": {}
        }
      ]
    }
  ]
}